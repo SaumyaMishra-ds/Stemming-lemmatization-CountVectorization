{
 "cells": [
  {
   "cell_type": "code",
   "execution_count": 1,
   "id": "91091752",
   "metadata": {},
   "outputs": [],
   "source": [
    "import pandas as pd\n",
    "import numpy as np\n",
    "from sklearn.feature_extraction.text import CountVectorizer\n",
    "from sklearn.naive_bayes import MultinomialNB\n",
    "from sklearn.model_selection import train_test_split\n",
    "\n",
    "import nltk\n",
    "from nltk import word_tokenize\n",
    "from nltk.stem import WordNetLemmatizer, PorterStemmer\n",
    "from nltk.corpus import wordnet"
   ]
  },
  {
   "cell_type": "code",
   "execution_count": 2,
   "id": "0a2cbf4d",
   "metadata": {},
   "outputs": [
    {
     "name": "stderr",
     "output_type": "stream",
     "text": [
      "[nltk_data] Downloading package wordnet to\n",
      "[nltk_data]     C:\\Users\\saumy\\AppData\\Roaming\\nltk_data...\n",
      "[nltk_data]   Package wordnet is already up-to-date!\n",
      "[nltk_data] Downloading package punkt to\n",
      "[nltk_data]     C:\\Users\\saumy\\AppData\\Roaming\\nltk_data...\n",
      "[nltk_data]   Package punkt is already up-to-date!\n",
      "[nltk_data] Downloading package averaged_perceptron_tagger to\n",
      "[nltk_data]     C:\\Users\\saumy\\AppData\\Roaming\\nltk_data...\n",
      "[nltk_data]   Package averaged_perceptron_tagger is already up-to-\n",
      "[nltk_data]       date!\n"
     ]
    },
    {
     "data": {
      "text/plain": [
       "True"
      ]
     },
     "execution_count": 2,
     "metadata": {},
     "output_type": "execute_result"
    }
   ],
   "source": [
    "# nltk.download('wordnet') #to download all words listed in nltk corpus into our system\n",
    "# nltk.download('punkt') #to download all punctuation listed in nltk corpus into our system\n",
    "# nltk.download('averaged_perceptron_tagger') #to download part of speech of words"
   ]
  },
  {
   "cell_type": "markdown",
   "id": "bd45a34e",
   "metadata": {},
   "source": [
    "# Stemming and Lemmatization Explaination"
   ]
  },
  {
   "cell_type": "code",
   "execution_count": 3,
   "id": "7373240b",
   "metadata": {},
   "outputs": [
    {
     "name": "stdout",
     "output_type": "stream",
     "text": [
      "stemmed word: ['go', 'replac', 'love', 'walk', 'walk', 'walk', 'ran', 'run']\n",
      "lemmatized words: ['Going', 'replacement', 'loved', 'walking', 'walked', 'walk', 'ran', 'running']\n"
     ]
    }
   ],
   "source": [
    "ps=PorterStemmer()\n",
    "wnl=WordNetLemmatizer()\n",
    "token=['Going', 'replacement','loved', 'walking','walked','walks','ran','running']\n",
    "\n",
    "stem=[ps.stem(w) for w in token]\n",
    "print('stemmed word:',stem)\n",
    "\n",
    "lem=[wnl.lemmatize(w) for w in token]\n",
    "print('lemmatized words:',lem)\n"
   ]
  },
  {
   "cell_type": "code",
   "execution_count": 4,
   "id": "3f14a5fc",
   "metadata": {},
   "outputs": [],
   "source": [
    "'''lemmatization did not work properly as it consider most of the words as noun itself. To let lemmatization understand the words \n",
    "properly and give correct lemma of word we need to give it the word its proper part of speecg for that we use nltk.pos tagger '''\n",
    "def get_wordnet_pos(pos_tag):\n",
    "        if pos_tag.startswith('J'):\n",
    "            return wordnet.ADJ\n",
    "        elif pos_tag.startswith('V'):\n",
    "            return wordnet.VERB\n",
    "        elif pos_tag.startswith('N'):\n",
    "            return wordnet.NOUN\n",
    "        elif pos_tag.startswith('R'):\n",
    "            return wordnet.ADV\n",
    "        else:\n",
    "            return wordnet.NOUN"
   ]
  },
  {
   "cell_type": "code",
   "execution_count": 5,
   "id": "475eca67",
   "metadata": {},
   "outputs": [
    {
     "data": {
      "text/plain": [
       "[('Going', 'VBG'),\n",
       " ('replacement', 'NN'),\n",
       " ('loved', 'VBD'),\n",
       " ('walking', 'VBG'),\n",
       " ('walked', 'VBD'),\n",
       " ('walks', 'NNS'),\n",
       " ('ran', 'VBD'),\n",
       " ('running', 'VBG')]"
      ]
     },
     "execution_count": 5,
     "metadata": {},
     "output_type": "execute_result"
    }
   ],
   "source": [
    "word_tag= nltk.pos_tag(token)\n",
    "word_tag"
   ]
  },
  {
   "cell_type": "code",
   "execution_count": 6,
   "id": "e4411d25",
   "metadata": {},
   "outputs": [
    {
     "name": "stdout",
     "output_type": "stream",
     "text": [
      "Going\n",
      "replacement\n",
      "love\n",
      "walk\n",
      "walk\n",
      "walk\n",
      "run\n",
      "run\n"
     ]
    }
   ],
   "source": [
    "for word,tag in word_tag:\n",
    "    lem= wnl.lemmatize(word,pos=get_wordnet_pos(tag))\n",
    "    print(lem)    "
   ]
  },
  {
   "cell_type": "code",
   "execution_count": 7,
   "id": "7adb70ba",
   "metadata": {},
   "outputs": [
    {
     "name": "stdout",
     "output_type": "stream",
     "text": [
      "['donald', 'trump', 'ha', 'devot', 'follow']\n",
      "Donald\n",
      "Trump\n",
      "have\n",
      "devote\n",
      "follow\n"
     ]
    }
   ],
   "source": [
    "sent='Donald Trump has devoted following'.split()\n",
    "x=[ps.stem(s) for s in sent]\n",
    "print(x)\n",
    "\n",
    "word_tag= nltk.pos_tag(sent)\n",
    "for word, tag in word_tag:\n",
    "    print(wnl.lemmatize(word,get_wordnet_pos(tag)))  \n",
    "    \n",
    "# we could see has is stem to ha but with lemmatization is get conversed to have\n",
    "# non of the two is better than other its completely depend on which works better for your dataset"
   ]
  },
  {
   "cell_type": "markdown",
   "id": "75e87888",
   "metadata": {},
   "source": [
    "# ML model and countvectorizer implimentation"
   ]
  },
  {
   "cell_type": "code",
   "execution_count": 8,
   "id": "00bbf201",
   "metadata": {},
   "outputs": [
    {
     "data": {
      "text/html": [
       "<div>\n",
       "<style scoped>\n",
       "    .dataframe tbody tr th:only-of-type {\n",
       "        vertical-align: middle;\n",
       "    }\n",
       "\n",
       "    .dataframe tbody tr th {\n",
       "        vertical-align: top;\n",
       "    }\n",
       "\n",
       "    .dataframe thead th {\n",
       "        text-align: right;\n",
       "    }\n",
       "</style>\n",
       "<table border=\"1\" class=\"dataframe\">\n",
       "  <thead>\n",
       "    <tr style=\"text-align: right;\">\n",
       "      <th></th>\n",
       "      <th>text</th>\n",
       "      <th>labels</th>\n",
       "    </tr>\n",
       "  </thead>\n",
       "  <tbody>\n",
       "    <tr>\n",
       "      <th>0</th>\n",
       "      <td>Ad sales boost Time Warner profit\\n\\nQuarterly...</td>\n",
       "      <td>business</td>\n",
       "    </tr>\n",
       "    <tr>\n",
       "      <th>1</th>\n",
       "      <td>Dollar gains on Greenspan speech\\n\\nThe dollar...</td>\n",
       "      <td>business</td>\n",
       "    </tr>\n",
       "    <tr>\n",
       "      <th>2</th>\n",
       "      <td>Yukos unit buyer faces loan claim\\n\\nThe owner...</td>\n",
       "      <td>business</td>\n",
       "    </tr>\n",
       "    <tr>\n",
       "      <th>3</th>\n",
       "      <td>High fuel prices hit BA's profits\\n\\nBritish A...</td>\n",
       "      <td>business</td>\n",
       "    </tr>\n",
       "    <tr>\n",
       "      <th>4</th>\n",
       "      <td>Pernod takeover talk lifts Domecq\\n\\nShares in...</td>\n",
       "      <td>business</td>\n",
       "    </tr>\n",
       "  </tbody>\n",
       "</table>\n",
       "</div>"
      ],
      "text/plain": [
       "                                                text    labels\n",
       "0  Ad sales boost Time Warner profit\\n\\nQuarterly...  business\n",
       "1  Dollar gains on Greenspan speech\\n\\nThe dollar...  business\n",
       "2  Yukos unit buyer faces loan claim\\n\\nThe owner...  business\n",
       "3  High fuel prices hit BA's profits\\n\\nBritish A...  business\n",
       "4  Pernod takeover talk lifts Domecq\\n\\nShares in...  business"
      ]
     },
     "execution_count": 8,
     "metadata": {},
     "output_type": "execute_result"
    }
   ],
   "source": [
    "df=pd.read_csv('bbc_text_cls.csv')\n",
    "\n",
    "inputs=df['text']\n",
    "labels=df['labels']\n",
    "\n",
    "df.head()"
   ]
  },
  {
   "cell_type": "code",
   "execution_count": 9,
   "id": "9227bc59",
   "metadata": {},
   "outputs": [
    {
     "data": {
      "text/plain": [
       "<AxesSubplot:>"
      ]
     },
     "execution_count": 9,
     "metadata": {},
     "output_type": "execute_result"
    },
    {
     "data": {
      "image/png": "[encoded data removed]",
      "text/plain": [
       "<Figure size 720x360 with 1 Axes>"
      ]
     },
     "metadata": {
      "needs_background": "light"
     },
     "output_type": "display_data"
    }
   ],
   "source": [
    "# to check if the data is balanced or not\n",
    "labels.hist(figsize=(10,5))"
   ]
  },
  {
   "cell_type": "code",
   "execution_count": 10,
   "id": "e7e157a6",
   "metadata": {},
   "outputs": [],
   "source": [
    "x_train,x_test,y_train,y_test=train_test_split(inputs,labels,random_state=12)"
   ]
  },
  {
   "cell_type": "code",
   "execution_count": 11,
   "id": "5bd4609e",
   "metadata": {},
   "outputs": [],
   "source": [
    "vectorizer=CountVectorizer()"
   ]
  },
  {
   "cell_type": "code",
   "execution_count": 12,
   "id": "76cb366d",
   "metadata": {},
   "outputs": [],
   "source": [
    "xtrain=vectorizer.fit_transform(x_train)\n",
    "xtest=vectorizer.transform(x_test)"
   ]
  },
  {
   "cell_type": "code",
   "execution_count": 13,
   "id": "3bae26b9",
   "metadata": {},
   "outputs": [
    {
     "data": {
      "text/plain": [
       "<1668x25819 sparse matrix of type '<class 'numpy.int64'>'\n",
       "\twith 334621 stored elements in Compressed Sparse Row format>"
      ]
     },
     "execution_count": 13,
     "metadata": {},
     "output_type": "execute_result"
    }
   ],
   "source": [
    "xtrain"
   ]
  },
  {
   "cell_type": "code",
   "execution_count": 14,
   "id": "608b4c98",
   "metadata": {},
   "outputs": [
    {
     "data": {
      "text/plain": [
       "0.00776994114070067"
      ]
     },
     "execution_count": 14,
     "metadata": {},
     "output_type": "execute_result"
    }
   ],
   "source": [
    "# percentage of non-zero values\n",
    "(xtrain!=0).sum()/np.product(xtrain.shape)"
   ]
  },
  {
   "cell_type": "code",
   "execution_count": 15,
   "id": "37a3db68",
   "metadata": {},
   "outputs": [
    {
     "name": "stdout",
     "output_type": "stream",
     "text": [
      "Training Score 0.9916067146282974\n",
      "Training Score 0.9748653500897666\n"
     ]
    }
   ],
   "source": [
    "model=MultinomialNB()\n",
    "model.fit(xtrain,y_train)\n",
    "print(\"Training Score\",model.score(xtrain,y_train))\n",
    "print(\"Training Score\",model.score(xtest,y_test))"
   ]
  },
  {
   "cell_type": "code",
   "execution_count": 16,
   "id": "ae605d67",
   "metadata": {
    "scrolled": true
   },
   "outputs": [
    {
     "name": "stdout",
     "output_type": "stream",
     "text": [
      "training data dimension after removing stopwords: (1668, 25528)\n",
      "Training Score 0.9940047961630696\n",
      "Training Score 0.9766606822262118\n"
     ]
    }
   ],
   "source": [
    "# With stopwords\n",
    "vectorizer=CountVectorizer(stop_words='english')\n",
    "\n",
    "xtrain=vectorizer.fit_transform(x_train)\n",
    "xtest=vectorizer.transform(x_test)\n",
    "print('training data dimension after removing stopwords:',xtrain.shape)\n",
    "\n",
    "model.fit(xtrain,y_train)\n",
    "print(\"Training Score\",model.score(xtrain,y_train))\n",
    "print(\"Training Score\",model.score(xtest,y_test))\n"
   ]
  },
  {
   "cell_type": "code",
   "execution_count": 17,
   "id": "a4cc58dd",
   "metadata": {},
   "outputs": [],
   "source": [
    "def LemmaTokenizer(x):\n",
    "    token=word_tokenize(x)\n",
    "    word_tag=nltk.pos_tag(token)\n",
    "    for word, tag in word_tag:\n",
    "        return(wnl.lemmatize(word,get_wordnet_pos(tag)))"
   ]
  },
  {
   "cell_type": "code",
   "execution_count": 18,
   "id": "924b0116",
   "metadata": {},
   "outputs": [
    {
     "name": "stdout",
     "output_type": "stream",
     "text": [
      "training data dimension after removing stopwords: (1668, 34)\n",
      "Training Score 0.37170263788968827\n",
      "Training Score 0.3231597845601436\n"
     ]
    }
   ],
   "source": [
    "#with lemmatization\n",
    "vectorizer=CountVectorizer(tokenizer=LemmaTokenizer)\n",
    "\n",
    "xtrain=vectorizer.fit_transform(x_train)\n",
    "xtest=vectorizer.transform(x_test)\n",
    "print('training data dimension after removing stopwords:',xtrain.shape)\n",
    "\n",
    "model.fit(xtrain,y_train)\n",
    "print(\"Training Score\",model.score(xtrain,y_train))\n",
    "print(\"Training Score\",model.score(xtest,y_test))\n"
   ]
  },
  {
   "cell_type": "code",
   "execution_count": 19,
   "id": "80dd64d1",
   "metadata": {},
   "outputs": [],
   "source": [
    "def StemTokenizer(x):\n",
    "    token=word_tokenize(x)\n",
    "    return(ps.stem(t) for t in token)"
   ]
  },
  {
   "cell_type": "code",
   "execution_count": 20,
   "id": "3f8868cd",
   "metadata": {},
   "outputs": [
    {
     "name": "stdout",
     "output_type": "stream",
     "text": [
      "training data dimension after removing stopwords: (1668, 22322)\n",
      "Training Score 0.9910071942446043\n",
      "Training Score 0.9694793536804309\n"
     ]
    }
   ],
   "source": [
    "#with steming\n",
    "vectorizer=CountVectorizer(tokenizer=StemTokenizer)\n",
    "\n",
    "xtrain=vectorizer.fit_transform(x_train)\n",
    "xtest=vectorizer.transform(x_test)\n",
    "print('training data dimension after removing stopwords:',xtrain.shape)\n",
    "\n",
    "model.fit(xtrain,y_train)\n",
    "print(\"Training Score\",model.score(xtrain,y_train))\n",
    "print(\"Training Score\",model.score(xtest,y_test))\n"
   ]
  },
  {
   "cell_type": "code",
   "execution_count": 21,
   "id": "bc2315ef",
   "metadata": {},
   "outputs": [],
   "source": [
    "def simple_token(s):\n",
    "    return s.split()"
   ]
  },
  {
   "cell_type": "code",
   "execution_count": 22,
   "id": "73f9af09",
   "metadata": {},
   "outputs": [
    {
     "name": "stdout",
     "output_type": "stream",
     "text": [
      "training data dimension after removing stopwords: (1668, 51130)\n",
      "Training Score 0.9952038369304557\n",
      "Training Score 0.9587073608617595\n"
     ]
    }
   ],
   "source": [
    "#string simple tokenizer\n",
    "vectorizer=CountVectorizer(tokenizer=simple_token)\n",
    "\n",
    "xtrain=vectorizer.fit_transform(x_train)\n",
    "xtest=vectorizer.transform(x_test)\n",
    "print('training data dimension after removing stopwords:',xtrain.shape)\n",
    "\n",
    "model.fit(xtrain,y_train)\n",
    "print(\"Training Score\",model.score(xtrain,y_train))\n",
    "print(\"Training Score\",model.score(xtest,y_test))\n"
   ]
  },
  {
   "cell_type": "code",
   "execution_count": null,
   "id": "c722a52e",
   "metadata": {},
   "outputs": [],
   "source": []
  }
 ],
 "metadata": {
  "kernelspec": {
   "display_name": "Python 3 (ipykernel)",
   "language": "python",
   "name": "python3"
  },
  "language_info": {
   "codemirror_mode": {
    "name": "ipython",
    "version": 3
   },
   "file_extension": ".py",
   "mimetype": "text/x-python",
   "name": "python",
   "nbconvert_exporter": "python",
   "pygments_lexer": "ipython3",
   "version": "3.9.7"
  }
 },
 "nbformat": 4,
 "nbformat_minor": 5
}
